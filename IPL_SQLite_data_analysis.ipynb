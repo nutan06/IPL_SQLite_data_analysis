{
 "cells": [
  {
   "cell_type": "markdown",
   "metadata": {},
   "source": [
    "# Null hypothesis with Chi square"
   ]
  },
  {
   "cell_type": "markdown",
   "metadata": {},
   "source": [
    "### Author:Nutan Mandale"
   ]
  },
  {
   "cell_type": "markdown",
   "metadata": {},
   "source": [
    "### Mentor:Vincent Ramdhanie"
   ]
  },
  {
   "cell_type": "markdown",
   "metadata": {},
   "source": [
    "### Data Description"
   ]
  },
  {
   "cell_type": "markdown",
   "metadata": {},
   "source": [
    "The dataset consist of the information following\n",
    "► 577 matches\n",
    "► 469 Players\n",
    "► Seasons 2008 to 2016\n",
    "► Detailed Player Details (Player_DOB, Player_Batting_Style,Player_Bowling_Style, etc...) for 469 players.\n",
    "► Detailed match events (Toss,Stadium, Date of the match, Who captained the match, who was the keeper, Extras, etc...) for 577 matches."
   ]
  },
  {
   "cell_type": "markdown",
   "metadata": {},
   "source": [
    "Here we have an assumption about batting first have no significant effect over winning match\n",
    "H~0 = Batting first will have no advantage in winning the match\n",
    "H~1 = Batting first helps in winning the match."
   ]
  },
  {
   "cell_type": "code",
   "execution_count": 28,
   "metadata": {
    "collapsed": false
   },
   "outputs": [],
   "source": [
    "%matplotlib inline\n",
    "import pandas as pd\n",
    "import numpy as np\n",
    "import seaborn as sns\n",
    "from matplotlib import pyplot as plt\n",
    "from scipy import stats\n",
    "from sqlalchemy import create_engine\n",
    "%matplotlib inline"
   ]
  },
  {
   "cell_type": "markdown",
   "metadata": {},
   "source": [
    "The data imported is in Sqlite.Inorder to import the data an engine is created and connected."
   ]
  },
  {
   "cell_type": "code",
   "execution_count": 2,
   "metadata": {
    "collapsed": false
   },
   "outputs": [],
   "source": [
    "engine = create_engine('sqlite:///database.sqlite')"
   ]
  },
  {
   "cell_type": "code",
   "execution_count": 3,
   "metadata": {
    "collapsed": true
   },
   "outputs": [],
   "source": [
    " table_names = engine.table_names() "
   ]
  },
  {
   "cell_type": "code",
   "execution_count": 4,
   "metadata": {
    "collapsed": false
   },
   "outputs": [
    {
     "name": "stdout",
     "output_type": "stream",
     "text": [
      "['Ball_by_Ball', 'Batsman_Scored', 'Batting_Style', 'Bowling_Style', 'City', 'Country', 'Extra_Runs', 'Extra_Type', 'Match', 'Out_Type', 'Outcome', 'Player', 'Player_Match', 'Rolee', 'Season', 'Team', 'Toss_Decision', 'Umpire', 'Venue', 'Wicket_Taken', 'Win_By', 'sqlite_sequence', 'sysdiagrams']\n"
     ]
    }
   ],
   "source": [
    "print(table_names) "
   ]
  },
  {
   "cell_type": "code",
   "execution_count": 5,
   "metadata": {
    "collapsed": true
   },
   "outputs": [],
   "source": [
    "con = engine.connect() "
   ]
  },
  {
   "cell_type": "code",
   "execution_count": 6,
   "metadata": {
    "collapsed": false
   },
   "outputs": [],
   "source": [
    "Match_df = pd.read_sql_query(\"\"\"SELECT \n",
    " m.Match_Id,\n",
    " m.Team_1,\n",
    " m.Team_2,\n",
    " m.Toss_Winner,\n",
    " t3.Team_Name as \"Toss_Winner_Name\",\n",
    " m.Match_Winner,\n",
    " t1.Team_Name as 'Match_Winner_Name',\n",
    " t2.Team_Name as 'Team1',\n",
    " t4.Team_Name as 'Team2',\n",
    "Toss_Decision.Toss_Name as 'TossName'\n",
    "FROM\n",
    "Match m JOIN Team t1 ON m.Match_Winner = t1.Team_Id \n",
    "JOIN Team t2 ON m.Team_1 = t2.Team_Id\n",
    "JOIN Team t3 ON m.Toss_Winner = t3.Team_id\n",
    "JOIN Team t4 ON m.Team_2 = t4.Team_id\n",
    "Join Toss_Decision On m.Toss_Decide = Toss_Decision.Toss_Id \"\"\", engine)"
   ]
  },
  {
   "cell_type": "code",
   "execution_count": 7,
   "metadata": {
    "collapsed": true
   },
   "outputs": [],
   "source": [
    "con.close()"
   ]
  },
  {
   "cell_type": "code",
   "execution_count": 8,
   "metadata": {
    "collapsed": false
   },
   "outputs": [
    {
     "data": {
      "text/html": [
       "<div>\n",
       "<table border=\"1\" class=\"dataframe\">\n",
       "  <thead>\n",
       "    <tr style=\"text-align: right;\">\n",
       "      <th></th>\n",
       "      <th>Match_Id</th>\n",
       "      <th>Team_1</th>\n",
       "      <th>Team_2</th>\n",
       "      <th>Toss_Winner</th>\n",
       "      <th>Toss_Winner_Name</th>\n",
       "      <th>Match_Winner</th>\n",
       "      <th>Match_Winner_Name</th>\n",
       "      <th>Team1</th>\n",
       "      <th>Team2</th>\n",
       "      <th>TossName</th>\n",
       "    </tr>\n",
       "  </thead>\n",
       "  <tbody>\n",
       "    <tr>\n",
       "      <th>0</th>\n",
       "      <td>335987</td>\n",
       "      <td>2</td>\n",
       "      <td>1</td>\n",
       "      <td>2</td>\n",
       "      <td>Royal Challengers Bangalore</td>\n",
       "      <td>1</td>\n",
       "      <td>Kolkata Knight Riders</td>\n",
       "      <td>Royal Challengers Bangalore</td>\n",
       "      <td>Kolkata Knight Riders</td>\n",
       "      <td>field</td>\n",
       "    </tr>\n",
       "    <tr>\n",
       "      <th>1</th>\n",
       "      <td>335988</td>\n",
       "      <td>4</td>\n",
       "      <td>3</td>\n",
       "      <td>3</td>\n",
       "      <td>Chennai Super Kings</td>\n",
       "      <td>3</td>\n",
       "      <td>Chennai Super Kings</td>\n",
       "      <td>Kings XI Punjab</td>\n",
       "      <td>Chennai Super Kings</td>\n",
       "      <td>bat</td>\n",
       "    </tr>\n",
       "    <tr>\n",
       "      <th>2</th>\n",
       "      <td>335989</td>\n",
       "      <td>6</td>\n",
       "      <td>5</td>\n",
       "      <td>5</td>\n",
       "      <td>Rajasthan Royals</td>\n",
       "      <td>6</td>\n",
       "      <td>Delhi Daredevils</td>\n",
       "      <td>Delhi Daredevils</td>\n",
       "      <td>Rajasthan Royals</td>\n",
       "      <td>bat</td>\n",
       "    </tr>\n",
       "    <tr>\n",
       "      <th>3</th>\n",
       "      <td>335990</td>\n",
       "      <td>7</td>\n",
       "      <td>2</td>\n",
       "      <td>7</td>\n",
       "      <td>Mumbai Indians</td>\n",
       "      <td>2</td>\n",
       "      <td>Royal Challengers Bangalore</td>\n",
       "      <td>Mumbai Indians</td>\n",
       "      <td>Royal Challengers Bangalore</td>\n",
       "      <td>bat</td>\n",
       "    </tr>\n",
       "    <tr>\n",
       "      <th>4</th>\n",
       "      <td>335991</td>\n",
       "      <td>1</td>\n",
       "      <td>8</td>\n",
       "      <td>8</td>\n",
       "      <td>Deccan Chargers</td>\n",
       "      <td>1</td>\n",
       "      <td>Kolkata Knight Riders</td>\n",
       "      <td>Kolkata Knight Riders</td>\n",
       "      <td>Deccan Chargers</td>\n",
       "      <td>bat</td>\n",
       "    </tr>\n",
       "  </tbody>\n",
       "</table>\n",
       "</div>"
      ],
      "text/plain": [
       "   Match_Id  Team_1  Team_2  Toss_Winner             Toss_Winner_Name  \\\n",
       "0    335987       2       1            2  Royal Challengers Bangalore   \n",
       "1    335988       4       3            3          Chennai Super Kings   \n",
       "2    335989       6       5            5             Rajasthan Royals   \n",
       "3    335990       7       2            7               Mumbai Indians   \n",
       "4    335991       1       8            8              Deccan Chargers   \n",
       "\n",
       "   Match_Winner            Match_Winner_Name                        Team1  \\\n",
       "0             1        Kolkata Knight Riders  Royal Challengers Bangalore   \n",
       "1             3          Chennai Super Kings              Kings XI Punjab   \n",
       "2             6             Delhi Daredevils             Delhi Daredevils   \n",
       "3             2  Royal Challengers Bangalore               Mumbai Indians   \n",
       "4             1        Kolkata Knight Riders        Kolkata Knight Riders   \n",
       "\n",
       "                         Team2 TossName  \n",
       "0        Kolkata Knight Riders    field  \n",
       "1          Chennai Super Kings      bat  \n",
       "2             Rajasthan Royals      bat  \n",
       "3  Royal Challengers Bangalore      bat  \n",
       "4              Deccan Chargers      bat  "
      ]
     },
     "execution_count": 8,
     "metadata": {},
     "output_type": "execute_result"
    }
   ],
   "source": [
    "Match_df.head()"
   ]
  },
  {
   "cell_type": "code",
   "execution_count": 9,
   "metadata": {
    "collapsed": false
   },
   "outputs": [
    {
     "data": {
      "text/plain": [
       "(574, 10)"
      ]
     },
     "execution_count": 9,
     "metadata": {},
     "output_type": "execute_result"
    }
   ],
   "source": [
    "Match_df.shape"
   ]
  },
  {
   "cell_type": "code",
   "execution_count": 10,
   "metadata": {
    "collapsed": false
   },
   "outputs": [
    {
     "data": {
      "text/plain": [
       "Index(['Match_Id', 'Team_1', 'Team_2', 'Toss_Winner', 'Toss_Winner_Name',\n",
       "       'Match_Winner', 'Match_Winner_Name', 'Team1', 'Team2', 'TossName'],\n",
       "      dtype='object')"
      ]
     },
     "execution_count": 10,
     "metadata": {},
     "output_type": "execute_result"
    }
   ],
   "source": [
    "Match_df.columns"
   ]
  },
  {
   "cell_type": "code",
   "execution_count": 11,
   "metadata": {
    "collapsed": false
   },
   "outputs": [
    {
     "data": {
      "image/png": "[encoded data removed]",
      "text/plain": [
       "<matplotlib.figure.Figure at 0x280b52ae4a8>"
      ]
     },
     "metadata": {},
     "output_type": "display_data"
    }
   ],
   "source": [
    "sns.factorplot('TossName',data=Match_df,hue='Match_Winner_Name',kind='count');"
   ]
  },
  {
   "cell_type": "code",
   "execution_count": 12,
   "metadata": {
    "collapsed": false
   },
   "outputs": [],
   "source": [
    "bat_df = Match_df[Match_df.TossName == 'bat']\n",
    "field_df= Match_df[Match_df.TossName == 'field']"
   ]
  },
  {
   "cell_type": "code",
   "execution_count": 13,
   "metadata": {
    "collapsed": false
   },
   "outputs": [
    {
     "data": {
      "text/html": [
       "<div>\n",
       "<table border=\"1\" class=\"dataframe\">\n",
       "  <thead>\n",
       "    <tr style=\"text-align: right;\">\n",
       "      <th></th>\n",
       "      <th>Match_Id</th>\n",
       "      <th>Team_1</th>\n",
       "      <th>Team_2</th>\n",
       "      <th>Toss_Winner</th>\n",
       "      <th>Toss_Winner_Name</th>\n",
       "      <th>Match_Winner</th>\n",
       "      <th>Match_Winner_Name</th>\n",
       "      <th>Team1</th>\n",
       "      <th>Team2</th>\n",
       "      <th>TossName</th>\n",
       "    </tr>\n",
       "  </thead>\n",
       "  <tbody>\n",
       "    <tr>\n",
       "      <th>1</th>\n",
       "      <td>335988</td>\n",
       "      <td>4</td>\n",
       "      <td>3</td>\n",
       "      <td>3</td>\n",
       "      <td>Chennai Super Kings</td>\n",
       "      <td>3</td>\n",
       "      <td>Chennai Super Kings</td>\n",
       "      <td>Kings XI Punjab</td>\n",
       "      <td>Chennai Super Kings</td>\n",
       "      <td>bat</td>\n",
       "    </tr>\n",
       "    <tr>\n",
       "      <th>2</th>\n",
       "      <td>335989</td>\n",
       "      <td>6</td>\n",
       "      <td>5</td>\n",
       "      <td>5</td>\n",
       "      <td>Rajasthan Royals</td>\n",
       "      <td>6</td>\n",
       "      <td>Delhi Daredevils</td>\n",
       "      <td>Delhi Daredevils</td>\n",
       "      <td>Rajasthan Royals</td>\n",
       "      <td>bat</td>\n",
       "    </tr>\n",
       "    <tr>\n",
       "      <th>3</th>\n",
       "      <td>335990</td>\n",
       "      <td>7</td>\n",
       "      <td>2</td>\n",
       "      <td>7</td>\n",
       "      <td>Mumbai Indians</td>\n",
       "      <td>2</td>\n",
       "      <td>Royal Challengers Bangalore</td>\n",
       "      <td>Mumbai Indians</td>\n",
       "      <td>Royal Challengers Bangalore</td>\n",
       "      <td>bat</td>\n",
       "    </tr>\n",
       "    <tr>\n",
       "      <th>4</th>\n",
       "      <td>335991</td>\n",
       "      <td>1</td>\n",
       "      <td>8</td>\n",
       "      <td>8</td>\n",
       "      <td>Deccan Chargers</td>\n",
       "      <td>1</td>\n",
       "      <td>Kolkata Knight Riders</td>\n",
       "      <td>Kolkata Knight Riders</td>\n",
       "      <td>Deccan Chargers</td>\n",
       "      <td>bat</td>\n",
       "    </tr>\n",
       "    <tr>\n",
       "      <th>5</th>\n",
       "      <td>335992</td>\n",
       "      <td>5</td>\n",
       "      <td>4</td>\n",
       "      <td>4</td>\n",
       "      <td>Kings XI Punjab</td>\n",
       "      <td>5</td>\n",
       "      <td>Rajasthan Royals</td>\n",
       "      <td>Rajasthan Royals</td>\n",
       "      <td>Kings XI Punjab</td>\n",
       "      <td>bat</td>\n",
       "    </tr>\n",
       "  </tbody>\n",
       "</table>\n",
       "</div>"
      ],
      "text/plain": [
       "   Match_Id  Team_1  Team_2  Toss_Winner     Toss_Winner_Name  Match_Winner  \\\n",
       "1    335988       4       3            3  Chennai Super Kings             3   \n",
       "2    335989       6       5            5     Rajasthan Royals             6   \n",
       "3    335990       7       2            7       Mumbai Indians             2   \n",
       "4    335991       1       8            8      Deccan Chargers             1   \n",
       "5    335992       5       4            4      Kings XI Punjab             5   \n",
       "\n",
       "             Match_Winner_Name                  Team1  \\\n",
       "1          Chennai Super Kings        Kings XI Punjab   \n",
       "2             Delhi Daredevils       Delhi Daredevils   \n",
       "3  Royal Challengers Bangalore         Mumbai Indians   \n",
       "4        Kolkata Knight Riders  Kolkata Knight Riders   \n",
       "5             Rajasthan Royals       Rajasthan Royals   \n",
       "\n",
       "                         Team2 TossName  \n",
       "1          Chennai Super Kings      bat  \n",
       "2             Rajasthan Royals      bat  \n",
       "3  Royal Challengers Bangalore      bat  \n",
       "4              Deccan Chargers      bat  \n",
       "5              Kings XI Punjab      bat  "
      ]
     },
     "execution_count": 13,
     "metadata": {},
     "output_type": "execute_result"
    }
   ],
   "source": [
    "bat_df.head()"
   ]
  },
  {
   "cell_type": "code",
   "execution_count": 14,
   "metadata": {
    "collapsed": false
   },
   "outputs": [
    {
     "data": {
      "text/html": [
       "<div>\n",
       "<table border=\"1\" class=\"dataframe\">\n",
       "  <thead>\n",
       "    <tr style=\"text-align: right;\">\n",
       "      <th></th>\n",
       "      <th>Match_Id</th>\n",
       "      <th>Team_1</th>\n",
       "      <th>Team_2</th>\n",
       "      <th>Toss_Winner</th>\n",
       "      <th>Toss_Winner_Name</th>\n",
       "      <th>Match_Winner</th>\n",
       "      <th>Match_Winner_Name</th>\n",
       "      <th>Team1</th>\n",
       "      <th>Team2</th>\n",
       "      <th>TossName</th>\n",
       "    </tr>\n",
       "  </thead>\n",
       "  <tbody>\n",
       "    <tr>\n",
       "      <th>0</th>\n",
       "      <td>335987</td>\n",
       "      <td>2</td>\n",
       "      <td>1</td>\n",
       "      <td>2</td>\n",
       "      <td>Royal Challengers Bangalore</td>\n",
       "      <td>1</td>\n",
       "      <td>Kolkata Knight Riders</td>\n",
       "      <td>Royal Challengers Bangalore</td>\n",
       "      <td>Kolkata Knight Riders</td>\n",
       "      <td>field</td>\n",
       "    </tr>\n",
       "    <tr>\n",
       "      <th>7</th>\n",
       "      <td>335994</td>\n",
       "      <td>3</td>\n",
       "      <td>7</td>\n",
       "      <td>7</td>\n",
       "      <td>Mumbai Indians</td>\n",
       "      <td>3</td>\n",
       "      <td>Chennai Super Kings</td>\n",
       "      <td>Chennai Super Kings</td>\n",
       "      <td>Mumbai Indians</td>\n",
       "      <td>field</td>\n",
       "    </tr>\n",
       "    <tr>\n",
       "      <th>8</th>\n",
       "      <td>335995</td>\n",
       "      <td>8</td>\n",
       "      <td>5</td>\n",
       "      <td>5</td>\n",
       "      <td>Rajasthan Royals</td>\n",
       "      <td>5</td>\n",
       "      <td>Rajasthan Royals</td>\n",
       "      <td>Deccan Chargers</td>\n",
       "      <td>Rajasthan Royals</td>\n",
       "      <td>field</td>\n",
       "    </tr>\n",
       "    <tr>\n",
       "      <th>9</th>\n",
       "      <td>335996</td>\n",
       "      <td>4</td>\n",
       "      <td>7</td>\n",
       "      <td>7</td>\n",
       "      <td>Mumbai Indians</td>\n",
       "      <td>4</td>\n",
       "      <td>Kings XI Punjab</td>\n",
       "      <td>Kings XI Punjab</td>\n",
       "      <td>Mumbai Indians</td>\n",
       "      <td>field</td>\n",
       "    </tr>\n",
       "    <tr>\n",
       "      <th>10</th>\n",
       "      <td>335997</td>\n",
       "      <td>2</td>\n",
       "      <td>5</td>\n",
       "      <td>5</td>\n",
       "      <td>Rajasthan Royals</td>\n",
       "      <td>5</td>\n",
       "      <td>Rajasthan Royals</td>\n",
       "      <td>Royal Challengers Bangalore</td>\n",
       "      <td>Rajasthan Royals</td>\n",
       "      <td>field</td>\n",
       "    </tr>\n",
       "  </tbody>\n",
       "</table>\n",
       "</div>"
      ],
      "text/plain": [
       "    Match_Id  Team_1  Team_2  Toss_Winner             Toss_Winner_Name  \\\n",
       "0     335987       2       1            2  Royal Challengers Bangalore   \n",
       "7     335994       3       7            7               Mumbai Indians   \n",
       "8     335995       8       5            5             Rajasthan Royals   \n",
       "9     335996       4       7            7               Mumbai Indians   \n",
       "10    335997       2       5            5             Rajasthan Royals   \n",
       "\n",
       "    Match_Winner      Match_Winner_Name                        Team1  \\\n",
       "0              1  Kolkata Knight Riders  Royal Challengers Bangalore   \n",
       "7              3    Chennai Super Kings          Chennai Super Kings   \n",
       "8              5       Rajasthan Royals              Deccan Chargers   \n",
       "9              4        Kings XI Punjab              Kings XI Punjab   \n",
       "10             5       Rajasthan Royals  Royal Challengers Bangalore   \n",
       "\n",
       "                    Team2 TossName  \n",
       "0   Kolkata Knight Riders    field  \n",
       "7          Mumbai Indians    field  \n",
       "8        Rajasthan Royals    field  \n",
       "9          Mumbai Indians    field  \n",
       "10       Rajasthan Royals    field  "
      ]
     },
     "execution_count": 14,
     "metadata": {},
     "output_type": "execute_result"
    }
   ],
   "source": [
    "field_df.head()"
   ]
  },
  {
   "cell_type": "code",
   "execution_count": 15,
   "metadata": {
    "collapsed": false
   },
   "outputs": [
    {
     "data": {
      "image/png": "[encoded data removed]",
      "text/plain": [
       "<matplotlib.figure.Figure at 0x280b580c400>"
      ]
     },
     "metadata": {},
     "output_type": "display_data"
    }
   ],
   "source": [
    "sns.countplot(y=\"Match_Winner_Name\", data=bat_df, palette=\"Greens_d\");"
   ]
  },
  {
   "cell_type": "code",
   "execution_count": 16,
   "metadata": {
    "collapsed": false
   },
   "outputs": [
    {
     "data": {
      "image/png": "[encoded data removed]",
      "text/plain": [
       "<matplotlib.figure.Figure at 0x280b5883a20>"
      ]
     },
     "metadata": {},
     "output_type": "display_data"
    }
   ],
   "source": [
    "sns.countplot(y=\"Match_Winner_Name\", data=field_df, palette=\"Greens_d\");"
   ]
  },
  {
   "cell_type": "code",
   "execution_count": 21,
   "metadata": {
    "collapsed": false
   },
   "outputs": [],
   "source": [
    "bat_first = Match_df[((Match_df['TossName'] == 'bat') & (Match_df['Toss_Winner_Name'] == Match_df['Match_Winner_Name'])) | ((Match_df['TossName'] == 'field') & (Match_df['Toss_Winner_Name'] != Match_df['Match_Winner_Name']))]"
   ]
  },
  {
   "cell_type": "code",
   "execution_count": 22,
   "metadata": {
    "collapsed": false
   },
   "outputs": [
    {
     "data": {
      "text/html": [
       "<div>\n",
       "<table border=\"1\" class=\"dataframe\">\n",
       "  <thead>\n",
       "    <tr style=\"text-align: right;\">\n",
       "      <th></th>\n",
       "      <th>Match_Id</th>\n",
       "      <th>Team_1</th>\n",
       "      <th>Team_2</th>\n",
       "      <th>Toss_Winner</th>\n",
       "      <th>Toss_Winner_Name</th>\n",
       "      <th>Match_Winner</th>\n",
       "      <th>Match_Winner_Name</th>\n",
       "      <th>Team1</th>\n",
       "      <th>Team2</th>\n",
       "      <th>TossName</th>\n",
       "    </tr>\n",
       "  </thead>\n",
       "  <tbody>\n",
       "    <tr>\n",
       "      <th>0</th>\n",
       "      <td>335987</td>\n",
       "      <td>2</td>\n",
       "      <td>1</td>\n",
       "      <td>2</td>\n",
       "      <td>Royal Challengers Bangalore</td>\n",
       "      <td>1</td>\n",
       "      <td>Kolkata Knight Riders</td>\n",
       "      <td>Royal Challengers Bangalore</td>\n",
       "      <td>Kolkata Knight Riders</td>\n",
       "      <td>field</td>\n",
       "    </tr>\n",
       "    <tr>\n",
       "      <th>1</th>\n",
       "      <td>335988</td>\n",
       "      <td>4</td>\n",
       "      <td>3</td>\n",
       "      <td>3</td>\n",
       "      <td>Chennai Super Kings</td>\n",
       "      <td>3</td>\n",
       "      <td>Chennai Super Kings</td>\n",
       "      <td>Kings XI Punjab</td>\n",
       "      <td>Chennai Super Kings</td>\n",
       "      <td>bat</td>\n",
       "    </tr>\n",
       "    <tr>\n",
       "      <th>7</th>\n",
       "      <td>335994</td>\n",
       "      <td>3</td>\n",
       "      <td>7</td>\n",
       "      <td>7</td>\n",
       "      <td>Mumbai Indians</td>\n",
       "      <td>3</td>\n",
       "      <td>Chennai Super Kings</td>\n",
       "      <td>Chennai Super Kings</td>\n",
       "      <td>Mumbai Indians</td>\n",
       "      <td>field</td>\n",
       "    </tr>\n",
       "    <tr>\n",
       "      <th>9</th>\n",
       "      <td>335996</td>\n",
       "      <td>4</td>\n",
       "      <td>7</td>\n",
       "      <td>7</td>\n",
       "      <td>Mumbai Indians</td>\n",
       "      <td>4</td>\n",
       "      <td>Kings XI Punjab</td>\n",
       "      <td>Kings XI Punjab</td>\n",
       "      <td>Mumbai Indians</td>\n",
       "      <td>field</td>\n",
       "    </tr>\n",
       "    <tr>\n",
       "      <th>14</th>\n",
       "      <td>336001</td>\n",
       "      <td>2</td>\n",
       "      <td>3</td>\n",
       "      <td>3</td>\n",
       "      <td>Chennai Super Kings</td>\n",
       "      <td>3</td>\n",
       "      <td>Chennai Super Kings</td>\n",
       "      <td>Royal Challengers Bangalore</td>\n",
       "      <td>Chennai Super Kings</td>\n",
       "      <td>bat</td>\n",
       "    </tr>\n",
       "  </tbody>\n",
       "</table>\n",
       "</div>"
      ],
      "text/plain": [
       "    Match_Id  Team_1  Team_2  Toss_Winner             Toss_Winner_Name  \\\n",
       "0     335987       2       1            2  Royal Challengers Bangalore   \n",
       "1     335988       4       3            3          Chennai Super Kings   \n",
       "7     335994       3       7            7               Mumbai Indians   \n",
       "9     335996       4       7            7               Mumbai Indians   \n",
       "14    336001       2       3            3          Chennai Super Kings   \n",
       "\n",
       "    Match_Winner      Match_Winner_Name                        Team1  \\\n",
       "0              1  Kolkata Knight Riders  Royal Challengers Bangalore   \n",
       "1              3    Chennai Super Kings              Kings XI Punjab   \n",
       "7              3    Chennai Super Kings          Chennai Super Kings   \n",
       "9              4        Kings XI Punjab              Kings XI Punjab   \n",
       "14             3    Chennai Super Kings  Royal Challengers Bangalore   \n",
       "\n",
       "                    Team2 TossName  \n",
       "0   Kolkata Knight Riders    field  \n",
       "1     Chennai Super Kings      bat  \n",
       "7          Mumbai Indians    field  \n",
       "9          Mumbai Indians    field  \n",
       "14    Chennai Super Kings      bat  "
      ]
     },
     "execution_count": 22,
     "metadata": {},
     "output_type": "execute_result"
    }
   ],
   "source": [
    "bat_first.head()"
   ]
  },
  {
   "cell_type": "code",
   "execution_count": 26,
   "metadata": {
    "collapsed": false
   },
   "outputs": [
    {
     "name": "stdout",
     "output_type": "stream",
     "text": [
      "TossName                     bat  field\n",
      "Match_Winner_Name                      \n",
      "Chennai Super Kings           29     16\n",
      "Deccan Chargers               11      7\n",
      "Delhi Daredevils               8     10\n",
      "Gujarat Lions                  0      1\n",
      "Kings XI Punjab                5     23\n",
      "Kochi Tuskers Kerala           0      2\n",
      "Kolkata Knight Riders         15     12\n",
      "Mumbai Indians                21     22\n",
      "Pune Warriors                  3      3\n",
      "Rajasthan Royals              13     12\n",
      "Royal Challengers Bangalore    7     20\n",
      "Sunrisers Hyderabad            6     12\n"
     ]
    }
   ],
   "source": [
    "# Table of counts\n",
    "counttable = pd.crosstab(bat_first['Match_Winner_Name'], bat_first['TossName'])\n",
    "print(counttable)\n"
   ]
  },
  {
   "cell_type": "code",
   "execution_count": 27,
   "metadata": {
    "collapsed": false
   },
   "outputs": [
    {
     "name": "stdout",
     "output_type": "stream",
     "text": [
      "Power_divergenceResult(statistic=136.7906976744186, pvalue=3.6274962306503136e-18)\n"
     ]
    }
   ],
   "source": [
    "print(stats.chisquare(counttable, axis=None))\n"
   ]
  },
  {
   "cell_type": "markdown",
   "metadata": {},
   "source": [
    "Here we see the p value is significantly less than 0.05. Hence our null hypothesis of batting first will have no advantage in winning the match is wrong.\n",
    "Batting first surely helps in winning the match."
   ]
  }
 ],
 "metadata": {
  "anaconda-cloud": {},
  "kernelspec": {
   "display_name": "Python [default]",
   "language": "python",
   "name": "python3"
  },
  "language_info": {
   "codemirror_mode": {
    "name": "ipython",
    "version": 3
   },
   "file_extension": ".py",
   "mimetype": "text/x-python",
   "name": "python",
   "nbconvert_exporter": "python",
   "pygments_lexer": "ipython3",
   "version": "3.5.2"
  }
 },
 "nbformat": 4,
 "nbformat_minor": 1
}
